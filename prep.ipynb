{
 "cells": [
  {
   "cell_type": "markdown",
   "metadata": {},
   "source": [
    "# Data Preparation Notebook\n",
    "The purpose of this notebook is to prepare the data to better expose the underlying data patterns to machine learning algorithms."
   ]
  },
  {
   "metadata": {},
   "cell_type": "markdown",
   "source": "## Import Packages"
  },
  {
   "cell_type": "code",
   "metadata": {
    "ExecuteTime": {
     "end_time": "2024-10-20T23:36:04.364121Z",
     "start_time": "2024-10-20T23:36:04.256771Z"
    }
   },
   "source": [
    "import sys\n",
    "import time\n",
    "from pathlib import Path\n",
    "import os\n",
    "import pandas as pd\n",
    "\n",
    "from sklearn.pipeline import Pipeline\n",
    "from sklearn.preprocessing import StandardScaler\n",
    "from sklearn.impute import SimpleImputer\n",
    "from sklearn.compose import ColumnTransformer\n",
    "from sklearn.preprocessing import OneHotEncoder\n",
    "from sklearn.preprocessing import KBinsDiscretizer\n",
    "from sklearn.linear_model import LinearRegression"
   ],
   "outputs": [],
   "execution_count": 1
  },
  {
   "cell_type": "markdown",
   "metadata": {},
   "source": "## Setup for imports of .py modules"
  },
  {
   "cell_type": "code",
   "metadata": {
    "ExecuteTime": {
     "end_time": "2024-10-20T23:36:04.366743Z",
     "start_time": "2024-10-20T23:36:04.365042Z"
    }
   },
   "source": [
    "path = Path(os.getcwd())\n",
    "path = str(path)\n",
    "print(path)\n",
    "sys.path.insert(1, path)"
   ],
   "outputs": [
    {
     "name": "stdout",
     "output_type": "stream",
     "text": [
      "/Users/lw/PycharmProjects/supervised_final/DS5220-Supervised-ML-Project\n"
     ]
    }
   ],
   "execution_count": 2
  },
  {
   "metadata": {},
   "cell_type": "markdown",
   "source": "## Import Python Modules"
  },
  {
   "metadata": {
    "ExecuteTime": {
     "end_time": "2024-10-20T23:36:04.369593Z",
     "start_time": "2024-10-20T23:36:04.367188Z"
    }
   },
   "cell_type": "code",
   "source": "import utils.sml_utils as sml_utils",
   "outputs": [],
   "execution_count": 3
  },
  {
   "cell_type": "markdown",
   "metadata": {},
   "source": [
    "## Parameters"
   ]
  },
  {
   "cell_type": "code",
   "metadata": {
    "ExecuteTime": {
     "end_time": "2024-10-20T23:36:04.372331Z",
     "start_time": "2024-10-20T23:36:04.370187Z"
    }
   },
   "source": [
    "path_to_data = 'data/winequality-white.csv'\n",
    "\n",
    "target_attr = 'quality'\n",
    "test_size = 0.20\n",
    "train_test_split_random_state = 42\n",
    "missingness_threshold = 0.20"
   ],
   "outputs": [],
   "execution_count": 4
  },
  {
   "cell_type": "markdown",
   "metadata": {},
   "source": [
    "## Dataset Variables"
   ]
  },
  {
   "cell_type": "code",
   "metadata": {
    "ExecuteTime": {
     "end_time": "2024-10-20T23:36:04.379150Z",
     "start_time": "2024-10-20T23:36:04.372984Z"
    }
   },
   "source": [
    "train_df = pd.read_csv('data/wine_train_df.csv').copy() # Make copy so original is not affected\n",
    "train_cap_x_df = train_df.iloc[:, :-1]  # All columns except the last one\n",
    "train_y_df = train_df.iloc[:, -1].to_frame()"
   ],
   "outputs": [],
   "execution_count": 5
  },
  {
   "cell_type": "markdown",
   "metadata": {},
   "source": [
    "## Set Up Time"
   ]
  },
  {
   "cell_type": "code",
   "metadata": {
    "ExecuteTime": {
     "end_time": "2024-10-20T23:36:04.381332Z",
     "start_time": "2024-10-20T23:36:04.379763Z"
    }
   },
   "source": [
    "start = time.time()"
   ],
   "outputs": [],
   "execution_count": 6
  },
  {
   "cell_type": "markdown",
   "metadata": {},
   "source": [
    "## Read In Data"
   ]
  },
  {
   "cell_type": "code",
   "metadata": {
    "ExecuteTime": {
     "end_time": "2024-10-20T23:36:04.394186Z",
     "start_time": "2024-10-20T23:36:04.382868Z"
    }
   },
   "source": [
    "df = pd.read_csv(path_to_data, sep=\";\")\n",
    "print(df.shape)\n",
    "df.head()"
   ],
   "outputs": [
    {
     "name": "stdout",
     "output_type": "stream",
     "text": [
      "(4898, 12)\n"
     ]
    },
    {
     "data": {
      "text/plain": [
       "   fixed acidity  volatile acidity  citric acid  residual sugar  chlorides  \\\n",
       "0            7.0              0.27         0.36            20.7      0.045   \n",
       "1            6.3              0.30         0.34             1.6      0.049   \n",
       "2            8.1              0.28         0.40             6.9      0.050   \n",
       "3            7.2              0.23         0.32             8.5      0.058   \n",
       "4            7.2              0.23         0.32             8.5      0.058   \n",
       "\n",
       "   free sulfur dioxide  total sulfur dioxide  density    pH  sulphates  \\\n",
       "0                 45.0                 170.0   1.0010  3.00       0.45   \n",
       "1                 14.0                 132.0   0.9940  3.30       0.49   \n",
       "2                 30.0                  97.0   0.9951  3.26       0.44   \n",
       "3                 47.0                 186.0   0.9956  3.19       0.40   \n",
       "4                 47.0                 186.0   0.9956  3.19       0.40   \n",
       "\n",
       "   alcohol  quality  \n",
       "0      8.8        6  \n",
       "1      9.5        6  \n",
       "2     10.1        6  \n",
       "3      9.9        6  \n",
       "4      9.9        6  "
      ],
      "text/html": [
       "<div>\n",
       "<style scoped>\n",
       "    .dataframe tbody tr th:only-of-type {\n",
       "        vertical-align: middle;\n",
       "    }\n",
       "\n",
       "    .dataframe tbody tr th {\n",
       "        vertical-align: top;\n",
       "    }\n",
       "\n",
       "    .dataframe thead th {\n",
       "        text-align: right;\n",
       "    }\n",
       "</style>\n",
       "<table border=\"1\" class=\"dataframe\">\n",
       "  <thead>\n",
       "    <tr style=\"text-align: right;\">\n",
       "      <th></th>\n",
       "      <th>fixed acidity</th>\n",
       "      <th>volatile acidity</th>\n",
       "      <th>citric acid</th>\n",
       "      <th>residual sugar</th>\n",
       "      <th>chlorides</th>\n",
       "      <th>free sulfur dioxide</th>\n",
       "      <th>total sulfur dioxide</th>\n",
       "      <th>density</th>\n",
       "      <th>pH</th>\n",
       "      <th>sulphates</th>\n",
       "      <th>alcohol</th>\n",
       "      <th>quality</th>\n",
       "    </tr>\n",
       "  </thead>\n",
       "  <tbody>\n",
       "    <tr>\n",
       "      <th>0</th>\n",
       "      <td>7.0</td>\n",
       "      <td>0.27</td>\n",
       "      <td>0.36</td>\n",
       "      <td>20.7</td>\n",
       "      <td>0.045</td>\n",
       "      <td>45.0</td>\n",
       "      <td>170.0</td>\n",
       "      <td>1.0010</td>\n",
       "      <td>3.00</td>\n",
       "      <td>0.45</td>\n",
       "      <td>8.8</td>\n",
       "      <td>6</td>\n",
       "    </tr>\n",
       "    <tr>\n",
       "      <th>1</th>\n",
       "      <td>6.3</td>\n",
       "      <td>0.30</td>\n",
       "      <td>0.34</td>\n",
       "      <td>1.6</td>\n",
       "      <td>0.049</td>\n",
       "      <td>14.0</td>\n",
       "      <td>132.0</td>\n",
       "      <td>0.9940</td>\n",
       "      <td>3.30</td>\n",
       "      <td>0.49</td>\n",
       "      <td>9.5</td>\n",
       "      <td>6</td>\n",
       "    </tr>\n",
       "    <tr>\n",
       "      <th>2</th>\n",
       "      <td>8.1</td>\n",
       "      <td>0.28</td>\n",
       "      <td>0.40</td>\n",
       "      <td>6.9</td>\n",
       "      <td>0.050</td>\n",
       "      <td>30.0</td>\n",
       "      <td>97.0</td>\n",
       "      <td>0.9951</td>\n",
       "      <td>3.26</td>\n",
       "      <td>0.44</td>\n",
       "      <td>10.1</td>\n",
       "      <td>6</td>\n",
       "    </tr>\n",
       "    <tr>\n",
       "      <th>3</th>\n",
       "      <td>7.2</td>\n",
       "      <td>0.23</td>\n",
       "      <td>0.32</td>\n",
       "      <td>8.5</td>\n",
       "      <td>0.058</td>\n",
       "      <td>47.0</td>\n",
       "      <td>186.0</td>\n",
       "      <td>0.9956</td>\n",
       "      <td>3.19</td>\n",
       "      <td>0.40</td>\n",
       "      <td>9.9</td>\n",
       "      <td>6</td>\n",
       "    </tr>\n",
       "    <tr>\n",
       "      <th>4</th>\n",
       "      <td>7.2</td>\n",
       "      <td>0.23</td>\n",
       "      <td>0.32</td>\n",
       "      <td>8.5</td>\n",
       "      <td>0.058</td>\n",
       "      <td>47.0</td>\n",
       "      <td>186.0</td>\n",
       "      <td>0.9956</td>\n",
       "      <td>3.19</td>\n",
       "      <td>0.40</td>\n",
       "      <td>9.9</td>\n",
       "      <td>6</td>\n",
       "    </tr>\n",
       "  </tbody>\n",
       "</table>\n",
       "</div>"
      ]
     },
     "execution_count": 7,
     "metadata": {},
     "output_type": "execute_result"
    }
   ],
   "execution_count": 7
  },
  {
   "cell_type": "markdown",
   "metadata": {},
   "source": [
    "## 1. Check for missingness in target vector"
   ]
  },
  {
   "cell_type": "code",
   "metadata": {
    "ExecuteTime": {
     "end_time": "2024-10-20T23:36:04.397364Z",
     "start_time": "2024-10-20T23:36:04.394791Z"
    }
   },
   "source": [
    "print(df.shape)\n",
    "df = df.dropna(subset=target_attr)\n",
    "print(df.shape)"
   ],
   "outputs": [
    {
     "name": "stdout",
     "output_type": "stream",
     "text": [
      "(4898, 12)\n",
      "(4898, 12)\n"
     ]
    }
   ],
   "execution_count": 8
  },
  {
   "cell_type": "markdown",
   "metadata": {},
   "source": [
    "## 2. Train/Test Data Split\n",
    "\n",
    "`wine_train_df` and `wine_test_df` were already created in phase 1"
   ]
  },
  {
   "cell_type": "markdown",
   "metadata": {},
   "source": [
    "## 3. Train/Validation Split\n",
    "\n",
    "This step will be omitted because cross-validation will be used in later steps\n"
   ]
  },
  {
   "cell_type": "markdown",
   "metadata": {},
   "source": [
    "## 4. check out attribute types"
   ]
  },
  {
   "cell_type": "code",
   "metadata": {
    "ExecuteTime": {
     "end_time": "2024-10-20T23:36:04.400337Z",
     "start_time": "2024-10-20T23:36:04.397943Z"
    }
   },
   "source": [
    "train_cap_x_df.dtypes"
   ],
   "outputs": [
    {
     "data": {
      "text/plain": [
       "fixed acidity           float64\n",
       "volatile acidity        float64\n",
       "citric acid             float64\n",
       "residual sugar          float64\n",
       "chlorides               float64\n",
       "free sulfur dioxide     float64\n",
       "total sulfur dioxide    float64\n",
       "density                 float64\n",
       "pH                      float64\n",
       "sulphates               float64\n",
       "alcohol                 float64\n",
       "dtype: object"
      ]
     },
     "execution_count": 9,
     "metadata": {},
     "output_type": "execute_result"
    }
   ],
   "execution_count": 9
  },
  {
   "cell_type": "markdown",
   "metadata": {},
   "source": [
    "## 5. identify attributes with  missingness above threshold"
   ]
  },
  {
   "cell_type": "markdown",
   "metadata": {},
   "source": [
    "Nothing missing"
   ]
  },
  {
   "cell_type": "code",
   "metadata": {
    "ExecuteTime": {
     "end_time": "2024-10-20T23:36:04.403282Z",
     "start_time": "2024-10-20T23:36:04.400813Z"
    }
   },
   "source": [
    "train_df.isna().sum() # There are no missing values in the data set."
   ],
   "outputs": [
    {
     "data": {
      "text/plain": [
       "fixed acidity           0\n",
       "volatile acidity        0\n",
       "citric acid             0\n",
       "residual sugar          0\n",
       "chlorides               0\n",
       "free sulfur dioxide     0\n",
       "total sulfur dioxide    0\n",
       "density                 0\n",
       "pH                      0\n",
       "sulphates               0\n",
       "alcohol                 0\n",
       "quality                 0\n",
       "dtype: int64"
      ]
     },
     "execution_count": 10,
     "metadata": {},
     "output_type": "execute_result"
    }
   ],
   "execution_count": 10
  },
  {
   "cell_type": "code",
   "metadata": {
    "ExecuteTime": {
     "end_time": "2024-10-20T23:36:04.405858Z",
     "start_time": "2024-10-20T23:36:04.403816Z"
    }
   },
   "source": [
    "return_dict = sml_utils.get_missingness(train_cap_x_df, missingness_threshold)\n",
    "missingness_drop_list = return_dict['missingness_drop_list']"
   ],
   "outputs": [
    {
     "name": "stdout",
     "output_type": "stream",
     "text": [
      "fixed acidity missingness = 0.0\n",
      "volatile acidity missingness = 0.0\n",
      "citric acid missingness = 0.0\n",
      "residual sugar missingness = 0.0\n",
      "chlorides missingness = 0.0\n",
      "free sulfur dioxide missingness = 0.0\n",
      "total sulfur dioxide missingness = 0.0\n",
      "density missingness = 0.0\n",
      "pH missingness = 0.0\n",
      "sulphates missingness = 0.0\n",
      "alcohol missingness = 0.0\n",
      "\n",
      "missingness_drop_list:\n",
      "[]\n"
     ]
    }
   ],
   "execution_count": 11
  },
  {
   "cell_type": "markdown",
   "metadata": {},
   "source": [
    "## 6. identify non machine learning attributes"
   ]
  },
  {
   "cell_type": "code",
   "metadata": {
    "ExecuteTime": {
     "end_time": "2024-10-20T23:36:04.408360Z",
     "start_time": "2024-10-20T23:36:04.406326Z"
    }
   },
   "source": [
    "train_cap_x_df.columns"
   ],
   "outputs": [
    {
     "data": {
      "text/plain": [
       "Index(['fixed acidity', 'volatile acidity', 'citric acid', 'residual sugar',\n",
       "       'chlorides', 'free sulfur dioxide', 'total sulfur dioxide', 'density',\n",
       "       'pH', 'sulphates', 'alcohol'],\n",
       "      dtype='object')"
      ]
     },
     "execution_count": 12,
     "metadata": {},
     "output_type": "execute_result"
    }
   ],
   "execution_count": 12
  },
  {
   "cell_type": "code",
   "metadata": {
    "ExecuteTime": {
     "end_time": "2024-10-20T23:36:04.410555Z",
     "start_time": "2024-10-20T23:36:04.408984Z"
    }
   },
   "source": [
    "non_ml_attr_list = [] # no non-machine learning attributes were identified"
   ],
   "outputs": [],
   "execution_count": 13
  },
  {
   "cell_type": "markdown",
   "metadata": {},
   "source": [
    "No non machine learning attributes were identified."
   ]
  },
  {
   "cell_type": "markdown",
   "metadata": {},
   "source": [
    "## 7. identify attributes to exclude from machine learning"
   ]
  },
  {
   "cell_type": "code",
   "metadata": {
    "ExecuteTime": {
     "end_time": "2024-10-20T23:36:04.412940Z",
     "start_time": "2024-10-20T23:36:04.411117Z"
    }
   },
   "source": [
    "train_cap_x_df.columns"
   ],
   "outputs": [
    {
     "data": {
      "text/plain": [
       "Index(['fixed acidity', 'volatile acidity', 'citric acid', 'residual sugar',\n",
       "       'chlorides', 'free sulfur dioxide', 'total sulfur dioxide', 'density',\n",
       "       'pH', 'sulphates', 'alcohol'],\n",
       "      dtype='object')"
      ]
     },
     "execution_count": 14,
     "metadata": {},
     "output_type": "execute_result"
    }
   ],
   "execution_count": 14
  },
  {
   "cell_type": "code",
   "metadata": {
    "ExecuteTime": {
     "end_time": "2024-10-20T23:36:04.414719Z",
     "start_time": "2024-10-20T23:36:04.413458Z"
    }
   },
   "source": [
    "ml_attr_drop_list = []"
   ],
   "outputs": [],
   "execution_count": 15
  },
  {
   "cell_type": "markdown",
   "metadata": {},
   "source": [
    "No attributes identified to exclude from machine learning."
   ]
  },
  {
   "cell_type": "markdown",
   "metadata": {},
   "source": [
    "## 8. establish machine learning attribute configuration"
   ]
  },
  {
   "cell_type": "code",
   "metadata": {
    "ExecuteTime": {
     "end_time": "2024-10-20T23:36:04.416890Z",
     "start_time": "2024-10-20T23:36:04.415095Z"
    }
   },
   "source": [
    "ml_ignore_list = missingness_drop_list + non_ml_attr_list + ml_attr_drop_list\n",
    "ml_ignore_list"
   ],
   "outputs": [
    {
     "data": {
      "text/plain": [
       "[]"
      ]
     },
     "execution_count": 16,
     "metadata": {},
     "output_type": "execute_result"
    }
   ],
   "execution_count": 16
  },
  {
   "cell_type": "code",
   "metadata": {
    "ExecuteTime": {
     "end_time": "2024-10-20T23:36:04.419305Z",
     "start_time": "2024-10-20T23:36:04.417331Z"
    }
   },
   "source": [
    "train_cap_x_df.columns"
   ],
   "outputs": [
    {
     "data": {
      "text/plain": [
       "Index(['fixed acidity', 'volatile acidity', 'citric acid', 'residual sugar',\n",
       "       'chlorides', 'free sulfur dioxide', 'total sulfur dioxide', 'density',\n",
       "       'pH', 'sulphates', 'alcohol'],\n",
       "      dtype='object')"
      ]
     },
     "execution_count": 17,
     "metadata": {},
     "output_type": "execute_result"
    }
   ],
   "execution_count": 17
  },
  {
   "cell_type": "code",
   "metadata": {
    "ExecuteTime": {
     "end_time": "2024-10-20T23:36:04.421861Z",
     "start_time": "2024-10-20T23:36:04.419716Z"
    }
   },
   "source": [
    "# identify the remaining numerical attributes to be used in machine learning and enter them into the \n",
    "# numerical_attr list below.\n",
    "\n",
    "numerical_attr = ['fixed acidity', 'volatile acidity', 'citric acid', 'residual sugar', 'chlorides', 'free sulfur dioxide', 'total sulfur dioxide', 'density', 'pH', 'sulphates', 'alcohol',]\n",
    "\n",
    "# identify the remaining nominal attributes to be used in machine learning and enter them into the \n",
    "# nominal_attr list below.\n",
    "\n",
    "nominal_attr = [] \n",
    "\n",
    "assert(train_cap_x_df.shape[1] == len(ml_ignore_list) + len(nominal_attr) + len(numerical_attr))\n",
    "\n",
    "print(f'ml_ignore_list: {ml_ignore_list}')\n",
    "print(f'\\nnumerical_attr: {numerical_attr}')\n",
    "print(f'nominal_attr: {nominal_attr}')\n",
    "\n",
    "print(f'\\nnumber of machine learning attributes: {len(numerical_attr) + len(nominal_attr)}')\n",
    "print(f'\\nnumerical_attr and nominal_attr: {numerical_attr + nominal_attr}')"
   ],
   "outputs": [
    {
     "name": "stdout",
     "output_type": "stream",
     "text": [
      "ml_ignore_list: []\n",
      "\n",
      "numerical_attr: ['fixed acidity', 'volatile acidity', 'citric acid', 'residual sugar', 'chlorides', 'free sulfur dioxide', 'total sulfur dioxide', 'density', 'pH', 'sulphates', 'alcohol']\n",
      "nominal_attr: []\n",
      "\n",
      "number of machine learning attributes: 11\n",
      "\n",
      "numerical_attr and nominal_attr: ['fixed acidity', 'volatile acidity', 'citric acid', 'residual sugar', 'chlorides', 'free sulfur dioxide', 'total sulfur dioxide', 'density', 'pH', 'sulphates', 'alcohol']\n"
     ]
    }
   ],
   "execution_count": 18
  },
  {
   "cell_type": "markdown",
   "metadata": {},
   "source": [
    "## 9. build a composite estimator"
   ]
  },
  {
   "cell_type": "code",
   "metadata": {
    "ExecuteTime": {
     "end_time": "2024-10-20T23:36:04.423968Z",
     "start_time": "2024-10-20T23:36:04.422555Z"
    }
   },
   "source": [
    "estimator_dict = {\n",
    "    'LinearRegression': LinearRegression(\n",
    "        fit_intercept=True, \n",
    "        copy_X=True, \n",
    "        n_jobs=None, \n",
    "        positive=False\n",
    "    )\n",
    "}"
   ],
   "outputs": [],
   "execution_count": 19
  },
  {
   "cell_type": "code",
   "metadata": {
    "ExecuteTime": {
     "end_time": "2024-10-20T23:36:04.426036Z",
     "start_time": "2024-10-20T23:36:04.424413Z"
    }
   },
   "source": [
    "numerical_transformer = Pipeline(\n",
    "    steps=[\n",
    "        (\"imputer\", SimpleImputer()), #Imputes missing values\n",
    "        (\"scaler\", StandardScaler()), #Scales values\n",
    "        (\"discretizer\", KBinsDiscretizer(n_bins=10, encode=\"ordinal\")) #Places continuous data into 10 bins.\n",
    "    ]\n",
    ")"
   ],
   "outputs": [],
   "execution_count": 20
  },
  {
   "cell_type": "code",
   "metadata": {
    "ExecuteTime": {
     "end_time": "2024-10-20T23:36:04.428415Z",
     "start_time": "2024-10-20T23:36:04.426664Z"
    }
   },
   "source": [
    "# Not used as there are no nominal attributes\n",
    "nominal_transformer = Pipeline(\n",
    "    steps=[\n",
    "        (\"imputer\", SimpleImputer(strategy='most_frequent')),\n",
    "        (\"ohe\", OneHotEncoder())\n",
    "    ]\n",
    ")"
   ],
   "outputs": [],
   "execution_count": 21
  },
  {
   "cell_type": "code",
   "metadata": {
    "ExecuteTime": {
     "end_time": "2024-10-20T23:36:04.432146Z",
     "start_time": "2024-10-20T23:36:04.430666Z"
    }
   },
   "source": [
    "preprocessor = ColumnTransformer(\n",
    "        transformers=[\n",
    "            ('nominal', nominal_transformer, nominal_attr),\n",
    "            ('numerical', numerical_transformer, numerical_attr)\n",
    "        ]\n",
    ")"
   ],
   "outputs": [],
   "execution_count": 22
  },
  {
   "cell_type": "code",
   "metadata": {
    "ExecuteTime": {
     "end_time": "2024-10-20T23:36:04.434367Z",
     "start_time": "2024-10-20T23:36:04.432837Z"
    }
   },
   "source": [
    "composite_estimator = Pipeline(steps=[('preprocessor', preprocessor), ('estimator', estimator_dict)])"
   ],
   "outputs": [],
   "execution_count": 23
  },
  {
   "cell_type": "markdown",
   "metadata": {},
   "source": [
    "### Output of preprocessing step"
   ]
  },
  {
   "cell_type": "code",
   "metadata": {
    "ExecuteTime": {
     "end_time": "2024-10-20T23:36:04.446240Z",
     "start_time": "2024-10-20T23:36:04.434884Z"
    }
   },
   "source": [
    "trans_train_cap_x_df = pd.DataFrame(\n",
    "    data=composite_estimator[0].fit_transform(train_cap_x_df),\n",
    "    index=train_cap_x_df.index,\n",
    "    columns=[attr_name for attr_name in composite_estimator[0].get_feature_names_out()]\n",
    ")\n",
    "trans_train_cap_x_df.head()"
   ],
   "outputs": [
    {
     "data": {
      "text/plain": [
       "   numerical__fixed acidity  numerical__volatile acidity  \\\n",
       "0                       7.0                          1.0   \n",
       "1                       2.0                          4.0   \n",
       "2                       0.0                          7.0   \n",
       "3                       5.0                          1.0   \n",
       "4                       8.0                          6.0   \n",
       "\n",
       "   numerical__citric acid  numerical__residual sugar  numerical__chlorides  \\\n",
       "0                     6.0                        6.0                   0.0   \n",
       "1                     8.0                        8.0                   4.0   \n",
       "2                     5.0                        6.0                   3.0   \n",
       "3                     6.0                        2.0                   2.0   \n",
       "4                     2.0                        9.0                   8.0   \n",
       "\n",
       "   numerical__free sulfur dioxide  numerical__total sulfur dioxide  \\\n",
       "0                             7.0                              2.0   \n",
       "1                             7.0                              9.0   \n",
       "2                             3.0                              1.0   \n",
       "3                             5.0                              2.0   \n",
       "4                             5.0                              7.0   \n",
       "\n",
       "   numerical__density  numerical__pH  numerical__sulphates  numerical__alcohol  \n",
       "0                 3.0            4.0                   2.0                 9.0  \n",
       "1                 7.0            5.0                   6.0                 2.0  \n",
       "2                 3.0            6.0                   5.0                 7.0  \n",
       "3                 4.0            5.0                   7.0                 6.0  \n",
       "4                 9.0            5.0                   6.0                 5.0  "
      ],
      "text/html": [
       "<div>\n",
       "<style scoped>\n",
       "    .dataframe tbody tr th:only-of-type {\n",
       "        vertical-align: middle;\n",
       "    }\n",
       "\n",
       "    .dataframe tbody tr th {\n",
       "        vertical-align: top;\n",
       "    }\n",
       "\n",
       "    .dataframe thead th {\n",
       "        text-align: right;\n",
       "    }\n",
       "</style>\n",
       "<table border=\"1\" class=\"dataframe\">\n",
       "  <thead>\n",
       "    <tr style=\"text-align: right;\">\n",
       "      <th></th>\n",
       "      <th>numerical__fixed acidity</th>\n",
       "      <th>numerical__volatile acidity</th>\n",
       "      <th>numerical__citric acid</th>\n",
       "      <th>numerical__residual sugar</th>\n",
       "      <th>numerical__chlorides</th>\n",
       "      <th>numerical__free sulfur dioxide</th>\n",
       "      <th>numerical__total sulfur dioxide</th>\n",
       "      <th>numerical__density</th>\n",
       "      <th>numerical__pH</th>\n",
       "      <th>numerical__sulphates</th>\n",
       "      <th>numerical__alcohol</th>\n",
       "    </tr>\n",
       "  </thead>\n",
       "  <tbody>\n",
       "    <tr>\n",
       "      <th>0</th>\n",
       "      <td>7.0</td>\n",
       "      <td>1.0</td>\n",
       "      <td>6.0</td>\n",
       "      <td>6.0</td>\n",
       "      <td>0.0</td>\n",
       "      <td>7.0</td>\n",
       "      <td>2.0</td>\n",
       "      <td>3.0</td>\n",
       "      <td>4.0</td>\n",
       "      <td>2.0</td>\n",
       "      <td>9.0</td>\n",
       "    </tr>\n",
       "    <tr>\n",
       "      <th>1</th>\n",
       "      <td>2.0</td>\n",
       "      <td>4.0</td>\n",
       "      <td>8.0</td>\n",
       "      <td>8.0</td>\n",
       "      <td>4.0</td>\n",
       "      <td>7.0</td>\n",
       "      <td>9.0</td>\n",
       "      <td>7.0</td>\n",
       "      <td>5.0</td>\n",
       "      <td>6.0</td>\n",
       "      <td>2.0</td>\n",
       "    </tr>\n",
       "    <tr>\n",
       "      <th>2</th>\n",
       "      <td>0.0</td>\n",
       "      <td>7.0</td>\n",
       "      <td>5.0</td>\n",
       "      <td>6.0</td>\n",
       "      <td>3.0</td>\n",
       "      <td>3.0</td>\n",
       "      <td>1.0</td>\n",
       "      <td>3.0</td>\n",
       "      <td>6.0</td>\n",
       "      <td>5.0</td>\n",
       "      <td>7.0</td>\n",
       "    </tr>\n",
       "    <tr>\n",
       "      <th>3</th>\n",
       "      <td>5.0</td>\n",
       "      <td>1.0</td>\n",
       "      <td>6.0</td>\n",
       "      <td>2.0</td>\n",
       "      <td>2.0</td>\n",
       "      <td>5.0</td>\n",
       "      <td>2.0</td>\n",
       "      <td>4.0</td>\n",
       "      <td>5.0</td>\n",
       "      <td>7.0</td>\n",
       "      <td>6.0</td>\n",
       "    </tr>\n",
       "    <tr>\n",
       "      <th>4</th>\n",
       "      <td>8.0</td>\n",
       "      <td>6.0</td>\n",
       "      <td>2.0</td>\n",
       "      <td>9.0</td>\n",
       "      <td>8.0</td>\n",
       "      <td>5.0</td>\n",
       "      <td>7.0</td>\n",
       "      <td>9.0</td>\n",
       "      <td>5.0</td>\n",
       "      <td>6.0</td>\n",
       "      <td>5.0</td>\n",
       "    </tr>\n",
       "  </tbody>\n",
       "</table>\n",
       "</div>"
      ]
     },
     "execution_count": 24,
     "metadata": {},
     "output_type": "execute_result"
    }
   ],
   "execution_count": 24
  }
 ],
 "metadata": {
  "kernelspec": {
   "display_name": "Python (conda_usml_env)",
   "language": "python",
   "name": "conda_usml_env"
  },
  "language_info": {
   "codemirror_mode": {
    "name": "ipython",
    "version": 3
   },
   "file_extension": ".py",
   "mimetype": "text/x-python",
   "name": "python",
   "nbconvert_exporter": "python",
   "pygments_lexer": "ipython3",
   "version": "3.12.2"
  }
 },
 "nbformat": 4,
 "nbformat_minor": 4
}
